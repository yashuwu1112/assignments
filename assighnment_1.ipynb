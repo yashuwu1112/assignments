{
 "cells": [
  {
   "cell_type": "code",
   "execution_count": 3,
   "id": "ac0fd59f-8e27-4306-933d-07b89fda6475",
   "metadata": {},
   "outputs": [
    {
     "name": "stdout",
     "output_type": "stream",
     "text": [
      "yash\n"
     ]
    }
   ],
   "source": [
    "print(\"yash\")"
   ]
  },
  {
   "cell_type": "code",
   "execution_count": 2,
   "id": "24e439f1-f399-4c12-a058-f42a56705079",
   "metadata": {},
   "outputs": [
    {
     "name": "stdout",
     "output_type": "stream",
     "text": [
      "Hello Python\n"
     ]
    }
   ],
   "source": [
    "def first():\n",
    "    return\"Hello Python\"\n",
    "print(first())    \n"
   ]
  },
  {
   "cell_type": "code",
   "execution_count": 9,
   "id": "cfa7a14a-5b31-4836-9554-12950f323392",
   "metadata": {},
   "outputs": [
    {
     "data": {
      "text/plain": [
       "5"
      ]
     },
     "execution_count": 9,
     "metadata": {},
     "output_type": "execute_result"
    }
   ],
   "source": [
    "def add(n1,n2):\n",
    "    return n1+n2\n",
    "add(2,3)    "
   ]
  },
  {
   "cell_type": "code",
   "execution_count": 10,
   "id": "f440a355-fdeb-42e9-b212-8171f33aebdf",
   "metadata": {},
   "outputs": [
    {
     "data": {
      "text/plain": [
       "1"
      ]
     },
     "execution_count": 10,
     "metadata": {},
     "output_type": "execute_result"
    }
   ],
   "source": [
    "def sub(n1,n2):\n",
    "    return n1-n2\n",
    "sub(6,5)    "
   ]
  },
  {
   "cell_type": "code",
   "execution_count": 11,
   "id": "98fae7ab-dbd0-4615-8e41-8c660460e9df",
   "metadata": {},
   "outputs": [
    {
     "name": "stdin",
     "output_type": "stream",
     "text": [
      "base of t: 80\n",
      "height of t: 100\n"
     ]
    },
    {
     "data": {
      "text/plain": [
       "4000.0"
      ]
     },
     "execution_count": 11,
     "metadata": {},
     "output_type": "execute_result"
    }
   ],
   "source": [
    "def aot(b,h):\n",
    "    area=0.5*b*h\n",
    "    return area\n",
    "base=float(input(\"base of t:\"))\n",
    "height=float(input(\"height of t:\"))\n",
    "aot(base,height)\n"
   ]
  },
  {
   "cell_type": "code",
   "execution_count": 12,
   "id": "50a3af64-98c6-4c8b-b4ad-dc54a69883a8",
   "metadata": {},
   "outputs": [
    {
     "data": {
      "text/plain": [
       "(8, 2)"
      ]
     },
     "execution_count": 12,
     "metadata": {},
     "output_type": "execute_result"
    }
   ],
   "source": [
    "def swap(a,b):\n",
    "    a,b=b,a\n",
    "    return a,b\n",
    "a=2\n",
    "b=8\n",
    "swap(a,b)"
   ]
  },
  {
   "cell_type": "code",
   "execution_count": 14,
   "id": "505882cb-6f20-4fe5-9ffd-234fe4ab007d",
   "metadata": {},
   "outputs": [
    {
     "data": {
      "text/plain": [
       "60"
      ]
     },
     "execution_count": 14,
     "metadata": {},
     "output_type": "execute_result"
    }
   ],
   "source": [
    "import random\n",
    "random.randint(0,100)"
   ]
  },
  {
   "cell_type": "code",
   "execution_count": null,
   "id": "5dc7df13-6acf-45a8-9625-81b1d3cee6ae",
   "metadata": {},
   "outputs": [],
   "source": []
  }
 ],
 "metadata": {
  "kernelspec": {
   "display_name": "Python 3 (ipykernel)",
   "language": "python",
   "name": "python3"
  },
  "language_info": {
   "codemirror_mode": {
    "name": "ipython",
    "version": 3
   },
   "file_extension": ".py",
   "mimetype": "text/x-python",
   "name": "python",
   "nbconvert_exporter": "python",
   "pygments_lexer": "ipython3",
   "version": "3.12.1"
  }
 },
 "nbformat": 4,
 "nbformat_minor": 5
}
